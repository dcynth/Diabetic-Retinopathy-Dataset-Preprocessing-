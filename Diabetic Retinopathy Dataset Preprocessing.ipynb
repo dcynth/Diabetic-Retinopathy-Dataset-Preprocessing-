{
 "cells": [
  {
   "cell_type": "code",
   "execution_count": 17,
   "metadata": {},
   "outputs": [],
   "source": [
    "import pandas as pd\n",
    "import numpy as np\n",
    "import os\n",
    "from PIL import Image, ImageChops\n",
    "import cv2\n",
    "filelist = []\n",
    "for root, dirnames, filenames in os.walk('/Users/cynthia/Downloads/sample'):\n",
    "    for filename in filenames:\n",
    "        filepath = os.path.join(root, filename)\n",
    "        filelist.append(filepath)\n",
    "import tensorflow as tf\n",
    "Image_list = np.array()\n",
    "for image_path in filelist:\n",
    "    img = cv2.imread(image_path, 1)\n",
    "    Image_list.append(img)\n",
    "    "
   ]
  },
  {
   "cell_type": "code",
   "execution_count": 2,
   "metadata": {
    "collapsed": true
   },
   "outputs": [],
   "source": [
    "def trim(im, border):\n",
    "  bg = Image.new(im.mode, im.size, border)\n",
    "  diff = ImageChops.difference(im, bg)\n",
    "  bbox = diff.getbbox()\n",
    "  if bbox:\n",
    "    return im.crop(bbox)\n",
    "\n",
    "def create_thumbnail(path, size):\n",
    "  image = Image.open(path)\n",
    "  name, extension = path.split('.')\n",
    "  options = {}\n",
    "  if 'transparency' in image.info:\n",
    "    options['transparency'] = image.info[\"transparency\"]\n",
    "  \n",
    "  image.thumbnail((size, size), Image.ANTIALIAS)\n",
    "  image = trim(image, 255) ## Trim whitespace\n",
    "  image.save(name + '_new.' + extension, **options)\n",
    "    return image"
   ]
  },
  {
   "cell_type": "code",
   "execution_count": 23,
   "metadata": {},
   "outputs": [
    {
     "ename": "AttributeError",
     "evalue": "'numpy.ndarray' object has no attribute 'mode'",
     "output_type": "error",
     "traceback": [
      "\u001b[0;31m---------------------------------------------------------------------------\u001b[0m",
      "\u001b[0;31mAttributeError\u001b[0m                            Traceback (most recent call last)",
      "\u001b[0;32m<ipython-input-23-c6af876f9a44>\u001b[0m in \u001b[0;36m<module>\u001b[0;34m()\u001b[0m\n\u001b[0;32m----> 1\u001b[0;31m \u001b[0mpic\u001b[0m \u001b[0;34m=\u001b[0m \u001b[0mImage\u001b[0m\u001b[0;34m.\u001b[0m\u001b[0mnew\u001b[0m\u001b[0;34m(\u001b[0m\u001b[0mImage_list\u001b[0m\u001b[0;34m[\u001b[0m\u001b[0;36m0\u001b[0m\u001b[0;34m]\u001b[0m\u001b[0;34m.\u001b[0m\u001b[0mmode\u001b[0m\u001b[0;34m,\u001b[0m \u001b[0;34m(\u001b[0m\u001b[0;36m512\u001b[0m\u001b[0;34m,\u001b[0m \u001b[0;36m512\u001b[0m\u001b[0;34m)\u001b[0m\u001b[0;34m)\u001b[0m\u001b[0;34m;\u001b[0m\u001b[0;34m\u001b[0m\u001b[0m\n\u001b[0m",
      "\u001b[0;31mAttributeError\u001b[0m: 'numpy.ndarray' object has no attribute 'mode'"
     ]
    }
   ],
   "source": [
    "pic = Image.new(Image_list[0].mode, (512, 512));"
   ]
  },
  {
   "cell_type": "code",
   "execution_count": null,
   "metadata": {},
   "outputs": [],
   "source": []
  },
  {
   "cell_type": "code",
   "execution_count": null,
   "metadata": {
    "collapsed": true
   },
   "outputs": [],
   "source": []
  }
 ],
 "metadata": {
  "kernelspec": {
   "display_name": "Python 3",
   "language": "python",
   "name": "python3"
  },
  "language_info": {
   "codemirror_mode": {
    "name": "ipython",
    "version": 3
   },
   "file_extension": ".py",
   "mimetype": "text/x-python",
   "name": "python",
   "nbconvert_exporter": "python",
   "pygments_lexer": "ipython3",
   "version": "3.6.1"
  }
 },
 "nbformat": 4,
 "nbformat_minor": 2
}
